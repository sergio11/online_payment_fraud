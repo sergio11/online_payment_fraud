{
  "nbformat": 4,
  "nbformat_minor": 0,
  "metadata": {
    "colab": {
      "provenance": []
    },
    "kernelspec": {
      "name": "python3",
      "display_name": "Python 3"
    },
    "language_info": {
      "name": "python"
    }
  },
  "cells": [
    {
      "cell_type": "markdown",
      "source": [
        "# **Online Payment Fraud Detection with Machine Learning**\n",
        "\n",
        "In today's digital era, online payments have become an integral part of our lives, offering convenience and speed with just a click or a tap. However, as the adoption of online payment systems grows, so does the threat of fraudulent activities. Fraudsters continue to exploit vulnerabilities, making online payment fraud detection a critical challenge for both businesses and individuals, especially those less familiar with modern technologies.\n",
        "\n",
        "This notebook focuses on addressing the problem of online payment fraud detection using machine learning. By leveraging historical data on fraudulent transactions, we aim to build a robust model capable of distinguishing between genuine and fraudulent transactions. For this purpose, we use a dataset sourced from Kaggle, which contains detailed transaction information that helps us identify patterns indicative of fraud.\n",
        "\n",
        "## **Dataset Overview**\n",
        "The dataset provides various attributes to understand the context and nature of each transaction, such as:\n",
        "- **step**: Time in hours since the start of recording.\n",
        "- **type**: Type of online transaction.\n",
        "- **amount**: Transaction amount.\n",
        "- **nameOrig**: Identifier of the initiating customer.\n",
        "- **oldbalanceOrg**: Customer's balance before the transaction.\n",
        "- **newbalanceOrig**: Customer's balance after the transaction.\n",
        "- **nameDest**: Identifier of the transaction recipient.\n",
        "- **oldbalanceDest**: Recipient's balance before the transaction.\n",
        "- **newbalanceDest**: Recipient's balance after the transaction.\n",
        "- **isFraud**: Label indicating whether the transaction was fraudulent.\n",
        "\n",
        "## **Objective**\n",
        "Our goal is to analyze this dataset and develop a machine learning model to classify transactions as fraudulent or non-fraudulent. Through this notebook, we will explore the dataset, preprocess the data, and apply various machine learning techniques to address this pressing issue effectively."
      ],
      "metadata": {
        "id": "2KYnR1_25-WC"
      }
    },
    {
      "cell_type": "markdown",
      "source": [
        "## **Library Imports**\n",
        "\n",
        "For this project, we utilize two essential Python libraries:\n",
        "\n",
        "- **NumPy**: A powerful library for numerical computations, particularly useful for handling multi-dimensional arrays and performing mathematical operations efficiently.\n",
        "\n",
        "- **Pandas**: A versatile library designed for data manipulation and analysis. It simplifies tasks such as reading datasets, cleaning data, and exploring relationships within the data."
      ],
      "metadata": {
        "id": "82rQdLpo8uMl"
      }
    },
    {
      "cell_type": "code",
      "source": [
        "import numpy as np\n",
        "import pandas as pd"
      ],
      "metadata": {
        "id": "P4-srlEg5-kX"
      },
      "execution_count": 1,
      "outputs": []
    },
    {
      "cell_type": "markdown",
      "source": [
        "These libraries are fundamental for working with structured datasets and performing the necessary data processing steps required for machine learning."
      ],
      "metadata": {
        "id": "-G3RDWRu8wWv"
      }
    },
    {
      "cell_type": "markdown",
      "source": [
        "## **Loading the Dataset**\n",
        "\n",
        "The dataset used for this project is loaded using the **Pandas** library. The `pd.read_csv()` function reads the data from a CSV file named `onlinefraud.csv` and stores it in a DataFrame called `df`.\n",
        "\n",
        "A **DataFrame** is a two-dimensional data structure in Pandas, similar to a table in a database or a spreadsheet, and is ideal for data manipulation and analysis. This step is essential for accessing the data and preparing it for further exploration and processing."
      ],
      "metadata": {
        "id": "lD5PTwJ784_Y"
      }
    },
    {
      "cell_type": "code",
      "source": [
        "df = pd.read_csv('onlinefraud.csv')"
      ],
      "metadata": {
        "id": "gdqVBYAJ5-2-"
      },
      "execution_count": 2,
      "outputs": []
    },
    {
      "cell_type": "markdown",
      "source": [
        "## **Previewing the Dataset**\n",
        "\n",
        "To quickly examine the structure and content of the dataset, we use the `head()` method. This function displays the first five rows of the DataFrame by default, providing a snapshot of the dataset's columns, data types, and sample values.\n",
        "\n",
        "This step is crucial for verifying that the data has been loaded correctly and for gaining an initial understanding of its structure and characteristics."
      ],
      "metadata": {
        "id": "BBrFENyH89iG"
      }
    },
    {
      "cell_type": "code",
      "source": [
        "df.head()"
      ],
      "metadata": {
        "colab": {
          "base_uri": "https://localhost:8080/",
          "height": 206
        },
        "id": "VCg6hoNi6Ik4",
        "outputId": "74e94483-ebaa-4260-bf68-abdb3533c5e7"
      },
      "execution_count": 3,
      "outputs": [
        {
          "output_type": "execute_result",
          "data": {
            "text/plain": [
              "   step      type    amount     nameOrig  oldbalanceOrg  newbalanceOrig  \\\n",
              "0     1   PAYMENT   9839.64  C1231006815       170136.0       160296.36   \n",
              "1     1   PAYMENT   1864.28  C1666544295        21249.0        19384.72   \n",
              "2     1  TRANSFER    181.00  C1305486145          181.0            0.00   \n",
              "3     1  CASH_OUT    181.00   C840083671          181.0            0.00   \n",
              "4     1   PAYMENT  11668.14  C2048537720        41554.0        29885.86   \n",
              "\n",
              "      nameDest  oldbalanceDest  newbalanceDest  isFraud  isFlaggedFraud  \n",
              "0  M1979787155             0.0             0.0      0.0             0.0  \n",
              "1  M2044282225             0.0             0.0      0.0             0.0  \n",
              "2   C553264065             0.0             0.0      1.0             0.0  \n",
              "3    C38997010         21182.0             0.0      1.0             0.0  \n",
              "4  M1230701703             0.0             0.0      0.0             0.0  "
            ],
            "text/html": [
              "\n",
              "  <div id=\"df-cddc4523-46b5-452b-ba7e-f5245d479b1a\" class=\"colab-df-container\">\n",
              "    <div>\n",
              "<style scoped>\n",
              "    .dataframe tbody tr th:only-of-type {\n",
              "        vertical-align: middle;\n",
              "    }\n",
              "\n",
              "    .dataframe tbody tr th {\n",
              "        vertical-align: top;\n",
              "    }\n",
              "\n",
              "    .dataframe thead th {\n",
              "        text-align: right;\n",
              "    }\n",
              "</style>\n",
              "<table border=\"1\" class=\"dataframe\">\n",
              "  <thead>\n",
              "    <tr style=\"text-align: right;\">\n",
              "      <th></th>\n",
              "      <th>step</th>\n",
              "      <th>type</th>\n",
              "      <th>amount</th>\n",
              "      <th>nameOrig</th>\n",
              "      <th>oldbalanceOrg</th>\n",
              "      <th>newbalanceOrig</th>\n",
              "      <th>nameDest</th>\n",
              "      <th>oldbalanceDest</th>\n",
              "      <th>newbalanceDest</th>\n",
              "      <th>isFraud</th>\n",
              "      <th>isFlaggedFraud</th>\n",
              "    </tr>\n",
              "  </thead>\n",
              "  <tbody>\n",
              "    <tr>\n",
              "      <th>0</th>\n",
              "      <td>1</td>\n",
              "      <td>PAYMENT</td>\n",
              "      <td>9839.64</td>\n",
              "      <td>C1231006815</td>\n",
              "      <td>170136.0</td>\n",
              "      <td>160296.36</td>\n",
              "      <td>M1979787155</td>\n",
              "      <td>0.0</td>\n",
              "      <td>0.0</td>\n",
              "      <td>0.0</td>\n",
              "      <td>0.0</td>\n",
              "    </tr>\n",
              "    <tr>\n",
              "      <th>1</th>\n",
              "      <td>1</td>\n",
              "      <td>PAYMENT</td>\n",
              "      <td>1864.28</td>\n",
              "      <td>C1666544295</td>\n",
              "      <td>21249.0</td>\n",
              "      <td>19384.72</td>\n",
              "      <td>M2044282225</td>\n",
              "      <td>0.0</td>\n",
              "      <td>0.0</td>\n",
              "      <td>0.0</td>\n",
              "      <td>0.0</td>\n",
              "    </tr>\n",
              "    <tr>\n",
              "      <th>2</th>\n",
              "      <td>1</td>\n",
              "      <td>TRANSFER</td>\n",
              "      <td>181.00</td>\n",
              "      <td>C1305486145</td>\n",
              "      <td>181.0</td>\n",
              "      <td>0.00</td>\n",
              "      <td>C553264065</td>\n",
              "      <td>0.0</td>\n",
              "      <td>0.0</td>\n",
              "      <td>1.0</td>\n",
              "      <td>0.0</td>\n",
              "    </tr>\n",
              "    <tr>\n",
              "      <th>3</th>\n",
              "      <td>1</td>\n",
              "      <td>CASH_OUT</td>\n",
              "      <td>181.00</td>\n",
              "      <td>C840083671</td>\n",
              "      <td>181.0</td>\n",
              "      <td>0.00</td>\n",
              "      <td>C38997010</td>\n",
              "      <td>21182.0</td>\n",
              "      <td>0.0</td>\n",
              "      <td>1.0</td>\n",
              "      <td>0.0</td>\n",
              "    </tr>\n",
              "    <tr>\n",
              "      <th>4</th>\n",
              "      <td>1</td>\n",
              "      <td>PAYMENT</td>\n",
              "      <td>11668.14</td>\n",
              "      <td>C2048537720</td>\n",
              "      <td>41554.0</td>\n",
              "      <td>29885.86</td>\n",
              "      <td>M1230701703</td>\n",
              "      <td>0.0</td>\n",
              "      <td>0.0</td>\n",
              "      <td>0.0</td>\n",
              "      <td>0.0</td>\n",
              "    </tr>\n",
              "  </tbody>\n",
              "</table>\n",
              "</div>\n",
              "    <div class=\"colab-df-buttons\">\n",
              "\n",
              "  <div class=\"colab-df-container\">\n",
              "    <button class=\"colab-df-convert\" onclick=\"convertToInteractive('df-cddc4523-46b5-452b-ba7e-f5245d479b1a')\"\n",
              "            title=\"Convert this dataframe to an interactive table.\"\n",
              "            style=\"display:none;\">\n",
              "\n",
              "  <svg xmlns=\"http://www.w3.org/2000/svg\" height=\"24px\" viewBox=\"0 -960 960 960\">\n",
              "    <path d=\"M120-120v-720h720v720H120Zm60-500h600v-160H180v160Zm220 220h160v-160H400v160Zm0 220h160v-160H400v160ZM180-400h160v-160H180v160Zm440 0h160v-160H620v160ZM180-180h160v-160H180v160Zm440 0h160v-160H620v160Z\"/>\n",
              "  </svg>\n",
              "    </button>\n",
              "\n",
              "  <style>\n",
              "    .colab-df-container {\n",
              "      display:flex;\n",
              "      gap: 12px;\n",
              "    }\n",
              "\n",
              "    .colab-df-convert {\n",
              "      background-color: #E8F0FE;\n",
              "      border: none;\n",
              "      border-radius: 50%;\n",
              "      cursor: pointer;\n",
              "      display: none;\n",
              "      fill: #1967D2;\n",
              "      height: 32px;\n",
              "      padding: 0 0 0 0;\n",
              "      width: 32px;\n",
              "    }\n",
              "\n",
              "    .colab-df-convert:hover {\n",
              "      background-color: #E2EBFA;\n",
              "      box-shadow: 0px 1px 2px rgba(60, 64, 67, 0.3), 0px 1px 3px 1px rgba(60, 64, 67, 0.15);\n",
              "      fill: #174EA6;\n",
              "    }\n",
              "\n",
              "    .colab-df-buttons div {\n",
              "      margin-bottom: 4px;\n",
              "    }\n",
              "\n",
              "    [theme=dark] .colab-df-convert {\n",
              "      background-color: #3B4455;\n",
              "      fill: #D2E3FC;\n",
              "    }\n",
              "\n",
              "    [theme=dark] .colab-df-convert:hover {\n",
              "      background-color: #434B5C;\n",
              "      box-shadow: 0px 1px 3px 1px rgba(0, 0, 0, 0.15);\n",
              "      filter: drop-shadow(0px 1px 2px rgba(0, 0, 0, 0.3));\n",
              "      fill: #FFFFFF;\n",
              "    }\n",
              "  </style>\n",
              "\n",
              "    <script>\n",
              "      const buttonEl =\n",
              "        document.querySelector('#df-cddc4523-46b5-452b-ba7e-f5245d479b1a button.colab-df-convert');\n",
              "      buttonEl.style.display =\n",
              "        google.colab.kernel.accessAllowed ? 'block' : 'none';\n",
              "\n",
              "      async function convertToInteractive(key) {\n",
              "        const element = document.querySelector('#df-cddc4523-46b5-452b-ba7e-f5245d479b1a');\n",
              "        const dataTable =\n",
              "          await google.colab.kernel.invokeFunction('convertToInteractive',\n",
              "                                                    [key], {});\n",
              "        if (!dataTable) return;\n",
              "\n",
              "        const docLinkHtml = 'Like what you see? Visit the ' +\n",
              "          '<a target=\"_blank\" href=https://colab.research.google.com/notebooks/data_table.ipynb>data table notebook</a>'\n",
              "          + ' to learn more about interactive tables.';\n",
              "        element.innerHTML = '';\n",
              "        dataTable['output_type'] = 'display_data';\n",
              "        await google.colab.output.renderOutput(dataTable, element);\n",
              "        const docLink = document.createElement('div');\n",
              "        docLink.innerHTML = docLinkHtml;\n",
              "        element.appendChild(docLink);\n",
              "      }\n",
              "    </script>\n",
              "  </div>\n",
              "\n",
              "\n",
              "<div id=\"df-88285745-3ed4-4a39-8f58-fd0d0d1bbca5\">\n",
              "  <button class=\"colab-df-quickchart\" onclick=\"quickchart('df-88285745-3ed4-4a39-8f58-fd0d0d1bbca5')\"\n",
              "            title=\"Suggest charts\"\n",
              "            style=\"display:none;\">\n",
              "\n",
              "<svg xmlns=\"http://www.w3.org/2000/svg\" height=\"24px\"viewBox=\"0 0 24 24\"\n",
              "     width=\"24px\">\n",
              "    <g>\n",
              "        <path d=\"M19 3H5c-1.1 0-2 .9-2 2v14c0 1.1.9 2 2 2h14c1.1 0 2-.9 2-2V5c0-1.1-.9-2-2-2zM9 17H7v-7h2v7zm4 0h-2V7h2v10zm4 0h-2v-4h2v4z\"/>\n",
              "    </g>\n",
              "</svg>\n",
              "  </button>\n",
              "\n",
              "<style>\n",
              "  .colab-df-quickchart {\n",
              "      --bg-color: #E8F0FE;\n",
              "      --fill-color: #1967D2;\n",
              "      --hover-bg-color: #E2EBFA;\n",
              "      --hover-fill-color: #174EA6;\n",
              "      --disabled-fill-color: #AAA;\n",
              "      --disabled-bg-color: #DDD;\n",
              "  }\n",
              "\n",
              "  [theme=dark] .colab-df-quickchart {\n",
              "      --bg-color: #3B4455;\n",
              "      --fill-color: #D2E3FC;\n",
              "      --hover-bg-color: #434B5C;\n",
              "      --hover-fill-color: #FFFFFF;\n",
              "      --disabled-bg-color: #3B4455;\n",
              "      --disabled-fill-color: #666;\n",
              "  }\n",
              "\n",
              "  .colab-df-quickchart {\n",
              "    background-color: var(--bg-color);\n",
              "    border: none;\n",
              "    border-radius: 50%;\n",
              "    cursor: pointer;\n",
              "    display: none;\n",
              "    fill: var(--fill-color);\n",
              "    height: 32px;\n",
              "    padding: 0;\n",
              "    width: 32px;\n",
              "  }\n",
              "\n",
              "  .colab-df-quickchart:hover {\n",
              "    background-color: var(--hover-bg-color);\n",
              "    box-shadow: 0 1px 2px rgba(60, 64, 67, 0.3), 0 1px 3px 1px rgba(60, 64, 67, 0.15);\n",
              "    fill: var(--button-hover-fill-color);\n",
              "  }\n",
              "\n",
              "  .colab-df-quickchart-complete:disabled,\n",
              "  .colab-df-quickchart-complete:disabled:hover {\n",
              "    background-color: var(--disabled-bg-color);\n",
              "    fill: var(--disabled-fill-color);\n",
              "    box-shadow: none;\n",
              "  }\n",
              "\n",
              "  .colab-df-spinner {\n",
              "    border: 2px solid var(--fill-color);\n",
              "    border-color: transparent;\n",
              "    border-bottom-color: var(--fill-color);\n",
              "    animation:\n",
              "      spin 1s steps(1) infinite;\n",
              "  }\n",
              "\n",
              "  @keyframes spin {\n",
              "    0% {\n",
              "      border-color: transparent;\n",
              "      border-bottom-color: var(--fill-color);\n",
              "      border-left-color: var(--fill-color);\n",
              "    }\n",
              "    20% {\n",
              "      border-color: transparent;\n",
              "      border-left-color: var(--fill-color);\n",
              "      border-top-color: var(--fill-color);\n",
              "    }\n",
              "    30% {\n",
              "      border-color: transparent;\n",
              "      border-left-color: var(--fill-color);\n",
              "      border-top-color: var(--fill-color);\n",
              "      border-right-color: var(--fill-color);\n",
              "    }\n",
              "    40% {\n",
              "      border-color: transparent;\n",
              "      border-right-color: var(--fill-color);\n",
              "      border-top-color: var(--fill-color);\n",
              "    }\n",
              "    60% {\n",
              "      border-color: transparent;\n",
              "      border-right-color: var(--fill-color);\n",
              "    }\n",
              "    80% {\n",
              "      border-color: transparent;\n",
              "      border-right-color: var(--fill-color);\n",
              "      border-bottom-color: var(--fill-color);\n",
              "    }\n",
              "    90% {\n",
              "      border-color: transparent;\n",
              "      border-bottom-color: var(--fill-color);\n",
              "    }\n",
              "  }\n",
              "</style>\n",
              "\n",
              "  <script>\n",
              "    async function quickchart(key) {\n",
              "      const quickchartButtonEl =\n",
              "        document.querySelector('#' + key + ' button');\n",
              "      quickchartButtonEl.disabled = true;  // To prevent multiple clicks.\n",
              "      quickchartButtonEl.classList.add('colab-df-spinner');\n",
              "      try {\n",
              "        const charts = await google.colab.kernel.invokeFunction(\n",
              "            'suggestCharts', [key], {});\n",
              "      } catch (error) {\n",
              "        console.error('Error during call to suggestCharts:', error);\n",
              "      }\n",
              "      quickchartButtonEl.classList.remove('colab-df-spinner');\n",
              "      quickchartButtonEl.classList.add('colab-df-quickchart-complete');\n",
              "    }\n",
              "    (() => {\n",
              "      let quickchartButtonEl =\n",
              "        document.querySelector('#df-88285745-3ed4-4a39-8f58-fd0d0d1bbca5 button');\n",
              "      quickchartButtonEl.style.display =\n",
              "        google.colab.kernel.accessAllowed ? 'block' : 'none';\n",
              "    })();\n",
              "  </script>\n",
              "</div>\n",
              "\n",
              "    </div>\n",
              "  </div>\n"
            ],
            "application/vnd.google.colaboratory.intrinsic+json": {
              "type": "dataframe",
              "variable_name": "df"
            }
          },
          "metadata": {},
          "execution_count": 3
        }
      ]
    },
    {
      "cell_type": "markdown",
      "source": [
        "## **Checking the Dataset Dimensions**\n",
        "\n",
        "The `shape` attribute of a DataFrame provides the dimensions of the dataset as a tuple: `(number of rows, number of columns)`.\n",
        "\n",
        "This information is useful for understanding the size of the dataset, helping to determine the volume of data available for analysis and the number of features or variables included."
      ],
      "metadata": {
        "id": "WhF0vXlL9DOv"
      }
    },
    {
      "cell_type": "code",
      "source": [
        "df.shape"
      ],
      "metadata": {
        "colab": {
          "base_uri": "https://localhost:8080/"
        },
        "id": "nv8Yk27261NH",
        "outputId": "65f116a2-ab89-4359-f193-e6f111888e4f"
      },
      "execution_count": 4,
      "outputs": [
        {
          "output_type": "execute_result",
          "data": {
            "text/plain": [
              "(2966310, 11)"
            ]
          },
          "metadata": {},
          "execution_count": 4
        }
      ]
    },
    {
      "cell_type": "markdown",
      "source": [
        "## **Dataset Overview**\n",
        "\n",
        "The `info()` method provides a concise summary of the dataset, including:\n",
        "\n",
        "- The number of non-null entries in each column.\n",
        "- The data types of each column.\n",
        "- The overall memory usage of the DataFrame."
      ],
      "metadata": {
        "id": "IJDryfdf9Jue"
      }
    },
    {
      "cell_type": "code",
      "source": [
        "df.info()"
      ],
      "metadata": {
        "colab": {
          "base_uri": "https://localhost:8080/"
        },
        "id": "akvb4wQN68NG",
        "outputId": "695a7e2e-81a5-40c0-8f96-7fdefd6d1c62"
      },
      "execution_count": 5,
      "outputs": [
        {
          "output_type": "stream",
          "name": "stdout",
          "text": [
            "<class 'pandas.core.frame.DataFrame'>\n",
            "RangeIndex: 2966310 entries, 0 to 2966309\n",
            "Data columns (total 11 columns):\n",
            " #   Column          Dtype  \n",
            "---  ------          -----  \n",
            " 0   step            int64  \n",
            " 1   type            object \n",
            " 2   amount          float64\n",
            " 3   nameOrig        object \n",
            " 4   oldbalanceOrg   float64\n",
            " 5   newbalanceOrig  float64\n",
            " 6   nameDest        object \n",
            " 7   oldbalanceDest  float64\n",
            " 8   newbalanceDest  float64\n",
            " 9   isFraud         float64\n",
            " 10  isFlaggedFraud  float64\n",
            "dtypes: float64(7), int64(1), object(3)\n",
            "memory usage: 248.9+ MB\n"
          ]
        }
      ]
    },
    {
      "cell_type": "markdown",
      "source": [
        "This function is essential for understanding the dataset's structure, identifying missing values, and ensuring the data types are appropriate for further analysis."
      ],
      "metadata": {
        "id": "O5Y-abaT9Mff"
      }
    },
    {
      "cell_type": "markdown",
      "source": [
        "## **Statistical Summary of the Dataset**\n",
        "\n",
        "The `describe()` method generates a statistical summary of the numerical columns in the dataset, including:\n",
        "\n",
        "- **Count**: The number of non-missing values.\n",
        "- **Mean**: The average value.\n",
        "- **Standard Deviation (std)**: A measure of the spread or dispersion of the values.\n",
        "- **Minimum (min)**: The smallest value.\n",
        "- **25th, 50th, and 75th percentiles**: Values at these quartiles.\n",
        "- **Maximum (max)**: The largest value.\n"
      ],
      "metadata": {
        "id": "Nf_LFbL5Aa3-"
      }
    },
    {
      "cell_type": "code",
      "source": [
        "df.describe()"
      ],
      "metadata": {
        "colab": {
          "base_uri": "https://localhost:8080/",
          "height": 300
        },
        "id": "54sbV1GN6-HG",
        "outputId": "4717bf90-93d2-45d3-8af7-a4c151df8d45"
      },
      "execution_count": 6,
      "outputs": [
        {
          "output_type": "execute_result",
          "data": {
            "text/plain": [
              "               step        amount  oldbalanceOrg  newbalanceOrig  \\\n",
              "count  2.966310e+06  2.966310e+06   2.966309e+06    2.966309e+06   \n",
              "mean   1.230103e+02  1.583457e+05   8.470936e+05    8.685706e+05   \n",
              "std    7.585347e+01  2.685184e+05   2.917737e+06    2.954174e+06   \n",
              "min    1.000000e+00  0.000000e+00   0.000000e+00    0.000000e+00   \n",
              "25%    3.800000e+01  1.264258e+04   0.000000e+00    0.000000e+00   \n",
              "50%    1.410000e+02  7.650964e+04   1.468500e+04    0.000000e+00   \n",
              "75%    1.860000e+02  2.121127e+05   1.141960e+05    1.539201e+05   \n",
              "max    2.310000e+02  1.000000e+07   3.893942e+07    3.894623e+07   \n",
              "\n",
              "       oldbalanceDest  newbalanceDest       isFraud  isFlaggedFraud  \n",
              "count    2.966309e+06    2.966309e+06  2.966309e+06    2.966309e+06  \n",
              "mean     9.952740e+05    1.103374e+06  8.751617e-04    3.371193e-07  \n",
              "std      2.301765e+06    2.385387e+06  2.957019e-02    5.806198e-04  \n",
              "min      0.000000e+00    0.000000e+00  0.000000e+00    0.000000e+00  \n",
              "25%      0.000000e+00    0.000000e+00  0.000000e+00    0.000000e+00  \n",
              "50%      1.375576e+05    2.243022e+05  0.000000e+00    0.000000e+00  \n",
              "75%      9.450661e+05    1.130874e+06  0.000000e+00    0.000000e+00  \n",
              "max      4.265577e+07    4.265577e+07  1.000000e+00    1.000000e+00  "
            ],
            "text/html": [
              "\n",
              "  <div id=\"df-23336e2c-09b6-4c77-9425-f9d1d65e0589\" class=\"colab-df-container\">\n",
              "    <div>\n",
              "<style scoped>\n",
              "    .dataframe tbody tr th:only-of-type {\n",
              "        vertical-align: middle;\n",
              "    }\n",
              "\n",
              "    .dataframe tbody tr th {\n",
              "        vertical-align: top;\n",
              "    }\n",
              "\n",
              "    .dataframe thead th {\n",
              "        text-align: right;\n",
              "    }\n",
              "</style>\n",
              "<table border=\"1\" class=\"dataframe\">\n",
              "  <thead>\n",
              "    <tr style=\"text-align: right;\">\n",
              "      <th></th>\n",
              "      <th>step</th>\n",
              "      <th>amount</th>\n",
              "      <th>oldbalanceOrg</th>\n",
              "      <th>newbalanceOrig</th>\n",
              "      <th>oldbalanceDest</th>\n",
              "      <th>newbalanceDest</th>\n",
              "      <th>isFraud</th>\n",
              "      <th>isFlaggedFraud</th>\n",
              "    </tr>\n",
              "  </thead>\n",
              "  <tbody>\n",
              "    <tr>\n",
              "      <th>count</th>\n",
              "      <td>2.966310e+06</td>\n",
              "      <td>2.966310e+06</td>\n",
              "      <td>2.966309e+06</td>\n",
              "      <td>2.966309e+06</td>\n",
              "      <td>2.966309e+06</td>\n",
              "      <td>2.966309e+06</td>\n",
              "      <td>2.966309e+06</td>\n",
              "      <td>2.966309e+06</td>\n",
              "    </tr>\n",
              "    <tr>\n",
              "      <th>mean</th>\n",
              "      <td>1.230103e+02</td>\n",
              "      <td>1.583457e+05</td>\n",
              "      <td>8.470936e+05</td>\n",
              "      <td>8.685706e+05</td>\n",
              "      <td>9.952740e+05</td>\n",
              "      <td>1.103374e+06</td>\n",
              "      <td>8.751617e-04</td>\n",
              "      <td>3.371193e-07</td>\n",
              "    </tr>\n",
              "    <tr>\n",
              "      <th>std</th>\n",
              "      <td>7.585347e+01</td>\n",
              "      <td>2.685184e+05</td>\n",
              "      <td>2.917737e+06</td>\n",
              "      <td>2.954174e+06</td>\n",
              "      <td>2.301765e+06</td>\n",
              "      <td>2.385387e+06</td>\n",
              "      <td>2.957019e-02</td>\n",
              "      <td>5.806198e-04</td>\n",
              "    </tr>\n",
              "    <tr>\n",
              "      <th>min</th>\n",
              "      <td>1.000000e+00</td>\n",
              "      <td>0.000000e+00</td>\n",
              "      <td>0.000000e+00</td>\n",
              "      <td>0.000000e+00</td>\n",
              "      <td>0.000000e+00</td>\n",
              "      <td>0.000000e+00</td>\n",
              "      <td>0.000000e+00</td>\n",
              "      <td>0.000000e+00</td>\n",
              "    </tr>\n",
              "    <tr>\n",
              "      <th>25%</th>\n",
              "      <td>3.800000e+01</td>\n",
              "      <td>1.264258e+04</td>\n",
              "      <td>0.000000e+00</td>\n",
              "      <td>0.000000e+00</td>\n",
              "      <td>0.000000e+00</td>\n",
              "      <td>0.000000e+00</td>\n",
              "      <td>0.000000e+00</td>\n",
              "      <td>0.000000e+00</td>\n",
              "    </tr>\n",
              "    <tr>\n",
              "      <th>50%</th>\n",
              "      <td>1.410000e+02</td>\n",
              "      <td>7.650964e+04</td>\n",
              "      <td>1.468500e+04</td>\n",
              "      <td>0.000000e+00</td>\n",
              "      <td>1.375576e+05</td>\n",
              "      <td>2.243022e+05</td>\n",
              "      <td>0.000000e+00</td>\n",
              "      <td>0.000000e+00</td>\n",
              "    </tr>\n",
              "    <tr>\n",
              "      <th>75%</th>\n",
              "      <td>1.860000e+02</td>\n",
              "      <td>2.121127e+05</td>\n",
              "      <td>1.141960e+05</td>\n",
              "      <td>1.539201e+05</td>\n",
              "      <td>9.450661e+05</td>\n",
              "      <td>1.130874e+06</td>\n",
              "      <td>0.000000e+00</td>\n",
              "      <td>0.000000e+00</td>\n",
              "    </tr>\n",
              "    <tr>\n",
              "      <th>max</th>\n",
              "      <td>2.310000e+02</td>\n",
              "      <td>1.000000e+07</td>\n",
              "      <td>3.893942e+07</td>\n",
              "      <td>3.894623e+07</td>\n",
              "      <td>4.265577e+07</td>\n",
              "      <td>4.265577e+07</td>\n",
              "      <td>1.000000e+00</td>\n",
              "      <td>1.000000e+00</td>\n",
              "    </tr>\n",
              "  </tbody>\n",
              "</table>\n",
              "</div>\n",
              "    <div class=\"colab-df-buttons\">\n",
              "\n",
              "  <div class=\"colab-df-container\">\n",
              "    <button class=\"colab-df-convert\" onclick=\"convertToInteractive('df-23336e2c-09b6-4c77-9425-f9d1d65e0589')\"\n",
              "            title=\"Convert this dataframe to an interactive table.\"\n",
              "            style=\"display:none;\">\n",
              "\n",
              "  <svg xmlns=\"http://www.w3.org/2000/svg\" height=\"24px\" viewBox=\"0 -960 960 960\">\n",
              "    <path d=\"M120-120v-720h720v720H120Zm60-500h600v-160H180v160Zm220 220h160v-160H400v160Zm0 220h160v-160H400v160ZM180-400h160v-160H180v160Zm440 0h160v-160H620v160ZM180-180h160v-160H180v160Zm440 0h160v-160H620v160Z\"/>\n",
              "  </svg>\n",
              "    </button>\n",
              "\n",
              "  <style>\n",
              "    .colab-df-container {\n",
              "      display:flex;\n",
              "      gap: 12px;\n",
              "    }\n",
              "\n",
              "    .colab-df-convert {\n",
              "      background-color: #E8F0FE;\n",
              "      border: none;\n",
              "      border-radius: 50%;\n",
              "      cursor: pointer;\n",
              "      display: none;\n",
              "      fill: #1967D2;\n",
              "      height: 32px;\n",
              "      padding: 0 0 0 0;\n",
              "      width: 32px;\n",
              "    }\n",
              "\n",
              "    .colab-df-convert:hover {\n",
              "      background-color: #E2EBFA;\n",
              "      box-shadow: 0px 1px 2px rgba(60, 64, 67, 0.3), 0px 1px 3px 1px rgba(60, 64, 67, 0.15);\n",
              "      fill: #174EA6;\n",
              "    }\n",
              "\n",
              "    .colab-df-buttons div {\n",
              "      margin-bottom: 4px;\n",
              "    }\n",
              "\n",
              "    [theme=dark] .colab-df-convert {\n",
              "      background-color: #3B4455;\n",
              "      fill: #D2E3FC;\n",
              "    }\n",
              "\n",
              "    [theme=dark] .colab-df-convert:hover {\n",
              "      background-color: #434B5C;\n",
              "      box-shadow: 0px 1px 3px 1px rgba(0, 0, 0, 0.15);\n",
              "      filter: drop-shadow(0px 1px 2px rgba(0, 0, 0, 0.3));\n",
              "      fill: #FFFFFF;\n",
              "    }\n",
              "  </style>\n",
              "\n",
              "    <script>\n",
              "      const buttonEl =\n",
              "        document.querySelector('#df-23336e2c-09b6-4c77-9425-f9d1d65e0589 button.colab-df-convert');\n",
              "      buttonEl.style.display =\n",
              "        google.colab.kernel.accessAllowed ? 'block' : 'none';\n",
              "\n",
              "      async function convertToInteractive(key) {\n",
              "        const element = document.querySelector('#df-23336e2c-09b6-4c77-9425-f9d1d65e0589');\n",
              "        const dataTable =\n",
              "          await google.colab.kernel.invokeFunction('convertToInteractive',\n",
              "                                                    [key], {});\n",
              "        if (!dataTable) return;\n",
              "\n",
              "        const docLinkHtml = 'Like what you see? Visit the ' +\n",
              "          '<a target=\"_blank\" href=https://colab.research.google.com/notebooks/data_table.ipynb>data table notebook</a>'\n",
              "          + ' to learn more about interactive tables.';\n",
              "        element.innerHTML = '';\n",
              "        dataTable['output_type'] = 'display_data';\n",
              "        await google.colab.output.renderOutput(dataTable, element);\n",
              "        const docLink = document.createElement('div');\n",
              "        docLink.innerHTML = docLinkHtml;\n",
              "        element.appendChild(docLink);\n",
              "      }\n",
              "    </script>\n",
              "  </div>\n",
              "\n",
              "\n",
              "<div id=\"df-ffbbb754-3046-4e7e-b537-75be74646ab4\">\n",
              "  <button class=\"colab-df-quickchart\" onclick=\"quickchart('df-ffbbb754-3046-4e7e-b537-75be74646ab4')\"\n",
              "            title=\"Suggest charts\"\n",
              "            style=\"display:none;\">\n",
              "\n",
              "<svg xmlns=\"http://www.w3.org/2000/svg\" height=\"24px\"viewBox=\"0 0 24 24\"\n",
              "     width=\"24px\">\n",
              "    <g>\n",
              "        <path d=\"M19 3H5c-1.1 0-2 .9-2 2v14c0 1.1.9 2 2 2h14c1.1 0 2-.9 2-2V5c0-1.1-.9-2-2-2zM9 17H7v-7h2v7zm4 0h-2V7h2v10zm4 0h-2v-4h2v4z\"/>\n",
              "    </g>\n",
              "</svg>\n",
              "  </button>\n",
              "\n",
              "<style>\n",
              "  .colab-df-quickchart {\n",
              "      --bg-color: #E8F0FE;\n",
              "      --fill-color: #1967D2;\n",
              "      --hover-bg-color: #E2EBFA;\n",
              "      --hover-fill-color: #174EA6;\n",
              "      --disabled-fill-color: #AAA;\n",
              "      --disabled-bg-color: #DDD;\n",
              "  }\n",
              "\n",
              "  [theme=dark] .colab-df-quickchart {\n",
              "      --bg-color: #3B4455;\n",
              "      --fill-color: #D2E3FC;\n",
              "      --hover-bg-color: #434B5C;\n",
              "      --hover-fill-color: #FFFFFF;\n",
              "      --disabled-bg-color: #3B4455;\n",
              "      --disabled-fill-color: #666;\n",
              "  }\n",
              "\n",
              "  .colab-df-quickchart {\n",
              "    background-color: var(--bg-color);\n",
              "    border: none;\n",
              "    border-radius: 50%;\n",
              "    cursor: pointer;\n",
              "    display: none;\n",
              "    fill: var(--fill-color);\n",
              "    height: 32px;\n",
              "    padding: 0;\n",
              "    width: 32px;\n",
              "  }\n",
              "\n",
              "  .colab-df-quickchart:hover {\n",
              "    background-color: var(--hover-bg-color);\n",
              "    box-shadow: 0 1px 2px rgba(60, 64, 67, 0.3), 0 1px 3px 1px rgba(60, 64, 67, 0.15);\n",
              "    fill: var(--button-hover-fill-color);\n",
              "  }\n",
              "\n",
              "  .colab-df-quickchart-complete:disabled,\n",
              "  .colab-df-quickchart-complete:disabled:hover {\n",
              "    background-color: var(--disabled-bg-color);\n",
              "    fill: var(--disabled-fill-color);\n",
              "    box-shadow: none;\n",
              "  }\n",
              "\n",
              "  .colab-df-spinner {\n",
              "    border: 2px solid var(--fill-color);\n",
              "    border-color: transparent;\n",
              "    border-bottom-color: var(--fill-color);\n",
              "    animation:\n",
              "      spin 1s steps(1) infinite;\n",
              "  }\n",
              "\n",
              "  @keyframes spin {\n",
              "    0% {\n",
              "      border-color: transparent;\n",
              "      border-bottom-color: var(--fill-color);\n",
              "      border-left-color: var(--fill-color);\n",
              "    }\n",
              "    20% {\n",
              "      border-color: transparent;\n",
              "      border-left-color: var(--fill-color);\n",
              "      border-top-color: var(--fill-color);\n",
              "    }\n",
              "    30% {\n",
              "      border-color: transparent;\n",
              "      border-left-color: var(--fill-color);\n",
              "      border-top-color: var(--fill-color);\n",
              "      border-right-color: var(--fill-color);\n",
              "    }\n",
              "    40% {\n",
              "      border-color: transparent;\n",
              "      border-right-color: var(--fill-color);\n",
              "      border-top-color: var(--fill-color);\n",
              "    }\n",
              "    60% {\n",
              "      border-color: transparent;\n",
              "      border-right-color: var(--fill-color);\n",
              "    }\n",
              "    80% {\n",
              "      border-color: transparent;\n",
              "      border-right-color: var(--fill-color);\n",
              "      border-bottom-color: var(--fill-color);\n",
              "    }\n",
              "    90% {\n",
              "      border-color: transparent;\n",
              "      border-bottom-color: var(--fill-color);\n",
              "    }\n",
              "  }\n",
              "</style>\n",
              "\n",
              "  <script>\n",
              "    async function quickchart(key) {\n",
              "      const quickchartButtonEl =\n",
              "        document.querySelector('#' + key + ' button');\n",
              "      quickchartButtonEl.disabled = true;  // To prevent multiple clicks.\n",
              "      quickchartButtonEl.classList.add('colab-df-spinner');\n",
              "      try {\n",
              "        const charts = await google.colab.kernel.invokeFunction(\n",
              "            'suggestCharts', [key], {});\n",
              "      } catch (error) {\n",
              "        console.error('Error during call to suggestCharts:', error);\n",
              "      }\n",
              "      quickchartButtonEl.classList.remove('colab-df-spinner');\n",
              "      quickchartButtonEl.classList.add('colab-df-quickchart-complete');\n",
              "    }\n",
              "    (() => {\n",
              "      let quickchartButtonEl =\n",
              "        document.querySelector('#df-ffbbb754-3046-4e7e-b537-75be74646ab4 button');\n",
              "      quickchartButtonEl.style.display =\n",
              "        google.colab.kernel.accessAllowed ? 'block' : 'none';\n",
              "    })();\n",
              "  </script>\n",
              "</div>\n",
              "\n",
              "    </div>\n",
              "  </div>\n"
            ],
            "application/vnd.google.colaboratory.intrinsic+json": {
              "type": "dataframe",
              "summary": "{\n  \"name\": \"df\",\n  \"rows\": 8,\n  \"fields\": [\n    {\n      \"column\": \"step\",\n      \"properties\": {\n        \"dtype\": \"number\",\n        \"std\": 1048708.7635603198,\n        \"min\": 1.0,\n        \"max\": 2966310.0,\n        \"num_unique_values\": 8,\n        \"samples\": [\n          123.010348547522,\n          141.0,\n          2966310.0\n        ],\n        \"semantic_type\": \"\",\n        \"description\": \"\"\n      }\n    },\n    {\n      \"column\": \"amount\",\n      \"properties\": {\n        \"dtype\": \"number\",\n        \"std\": 3494995.779726938,\n        \"min\": 0.0,\n        \"max\": 10000000.0,\n        \"num_unique_values\": 8,\n        \"samples\": [\n          158345.685577438,\n          76509.63500000001,\n          2966310.0\n        ],\n        \"semantic_type\": \"\",\n        \"description\": \"\"\n      }\n    },\n    {\n      \"column\": \"oldbalanceOrg\",\n      \"properties\": {\n        \"dtype\": \"number\",\n        \"std\": 13480796.434715483,\n        \"min\": 0.0,\n        \"max\": 38939424.03,\n        \"num_unique_values\": 7,\n        \"samples\": [\n          2966309.0,\n          847093.5890582037,\n          114196.0\n        ],\n        \"semantic_type\": \"\",\n        \"description\": \"\"\n      }\n    },\n    {\n      \"column\": \"newbalanceOrig\",\n      \"properties\": {\n        \"dtype\": \"number\",\n        \"std\": 13479539.488571478,\n        \"min\": 0.0,\n        \"max\": 38946233.02,\n        \"num_unique_values\": 6,\n        \"samples\": [\n          2966309.0,\n          868570.6086623403,\n          38946233.02\n        ],\n        \"semantic_type\": \"\",\n        \"description\": \"\"\n      }\n    },\n    {\n      \"column\": \"oldbalanceDest\",\n      \"properties\": {\n        \"dtype\": \"number\",\n        \"std\": 14750267.026212346,\n        \"min\": 0.0,\n        \"max\": 42655769.2,\n        \"num_unique_values\": 7,\n        \"samples\": [\n          2966309.0,\n          995273.9713040008,\n          945066.14\n        ],\n        \"semantic_type\": \"\",\n        \"description\": \"\"\n      }\n    },\n    {\n      \"column\": \"newbalanceDest\",\n      \"properties\": {\n        \"dtype\": \"number\",\n        \"std\": 14727030.456319131,\n        \"min\": 0.0,\n        \"max\": 42655769.2,\n        \"num_unique_values\": 7,\n        \"samples\": [\n          2966309.0,\n          1103374.4984084228,\n          1130873.92\n        ],\n        \"semantic_type\": \"\",\n        \"description\": \"\"\n      }\n    },\n    {\n      \"column\": \"isFraud\",\n      \"properties\": {\n        \"dtype\": \"number\",\n        \"std\": 1048748.5524520513,\n        \"min\": 0.0,\n        \"max\": 2966309.0,\n        \"num_unique_values\": 5,\n        \"samples\": [\n          0.0008751616908420532,\n          1.0,\n          0.029570189001352064\n        ],\n        \"semantic_type\": \"\",\n        \"description\": \"\"\n      }\n    },\n    {\n      \"column\": \"isFlaggedFraud\",\n      \"properties\": {\n        \"dtype\": \"number\",\n        \"std\": 1048748.5539604318,\n        \"min\": 0.0,\n        \"max\": 2966309.0,\n        \"num_unique_values\": 5,\n        \"samples\": [\n          3.3711929539370306e-07,\n          1.0,\n          0.0005806197511251255\n        ],\n        \"semantic_type\": \"\",\n        \"description\": \"\"\n      }\n    }\n  ]\n}"
            }
          },
          "metadata": {},
          "execution_count": 6
        }
      ]
    },
    {
      "cell_type": "markdown",
      "source": [
        "This summary is valuable for understanding the distribution, range, and variability of the numerical data in the dataset."
      ],
      "metadata": {
        "id": "tY_5pFBJAcbP"
      }
    },
    {
      "cell_type": "markdown",
      "source": [
        "## **Checking for Missing Values**\n",
        "\n",
        "To identify missing data in the dataset, we use the `isnull()` method, which checks each entry for missing (null) values and returns a Boolean result. The `sum()` method then aggregates the total number of missing values in each column.\n"
      ],
      "metadata": {
        "id": "c4oIAF-kAjX_"
      }
    },
    {
      "cell_type": "code",
      "source": [
        "df.isnull().sum()"
      ],
      "metadata": {
        "colab": {
          "base_uri": "https://localhost:8080/",
          "height": 429
        },
        "id": "6HLKZ5tR7A5f",
        "outputId": "cb6dbb3f-cf9c-486c-8b66-7fdcaf65e9e4"
      },
      "execution_count": 7,
      "outputs": [
        {
          "output_type": "execute_result",
          "data": {
            "text/plain": [
              "step              0\n",
              "type              0\n",
              "amount            0\n",
              "nameOrig          1\n",
              "oldbalanceOrg     1\n",
              "newbalanceOrig    1\n",
              "nameDest          1\n",
              "oldbalanceDest    1\n",
              "newbalanceDest    1\n",
              "isFraud           1\n",
              "isFlaggedFraud    1\n",
              "dtype: int64"
            ],
            "text/html": [
              "<div>\n",
              "<style scoped>\n",
              "    .dataframe tbody tr th:only-of-type {\n",
              "        vertical-align: middle;\n",
              "    }\n",
              "\n",
              "    .dataframe tbody tr th {\n",
              "        vertical-align: top;\n",
              "    }\n",
              "\n",
              "    .dataframe thead th {\n",
              "        text-align: right;\n",
              "    }\n",
              "</style>\n",
              "<table border=\"1\" class=\"dataframe\">\n",
              "  <thead>\n",
              "    <tr style=\"text-align: right;\">\n",
              "      <th></th>\n",
              "      <th>0</th>\n",
              "    </tr>\n",
              "  </thead>\n",
              "  <tbody>\n",
              "    <tr>\n",
              "      <th>step</th>\n",
              "      <td>0</td>\n",
              "    </tr>\n",
              "    <tr>\n",
              "      <th>type</th>\n",
              "      <td>0</td>\n",
              "    </tr>\n",
              "    <tr>\n",
              "      <th>amount</th>\n",
              "      <td>0</td>\n",
              "    </tr>\n",
              "    <tr>\n",
              "      <th>nameOrig</th>\n",
              "      <td>1</td>\n",
              "    </tr>\n",
              "    <tr>\n",
              "      <th>oldbalanceOrg</th>\n",
              "      <td>1</td>\n",
              "    </tr>\n",
              "    <tr>\n",
              "      <th>newbalanceOrig</th>\n",
              "      <td>1</td>\n",
              "    </tr>\n",
              "    <tr>\n",
              "      <th>nameDest</th>\n",
              "      <td>1</td>\n",
              "    </tr>\n",
              "    <tr>\n",
              "      <th>oldbalanceDest</th>\n",
              "      <td>1</td>\n",
              "    </tr>\n",
              "    <tr>\n",
              "      <th>newbalanceDest</th>\n",
              "      <td>1</td>\n",
              "    </tr>\n",
              "    <tr>\n",
              "      <th>isFraud</th>\n",
              "      <td>1</td>\n",
              "    </tr>\n",
              "    <tr>\n",
              "      <th>isFlaggedFraud</th>\n",
              "      <td>1</td>\n",
              "    </tr>\n",
              "  </tbody>\n",
              "</table>\n",
              "</div><br><label><b>dtype:</b> int64</label>"
            ]
          },
          "metadata": {},
          "execution_count": 7
        }
      ]
    },
    {
      "cell_type": "markdown",
      "source": [
        "This step is crucial for identifying and addressing incomplete data, which can otherwise impact the accuracy and performance of the machine learning model."
      ],
      "metadata": {
        "id": "650RW-WcAkvO"
      }
    },
    {
      "cell_type": "markdown",
      "source": [
        "## **Checking Value Distribution in Key Columns**\n",
        "\n",
        "The `value_counts()` method is used to analyze the distribution of values in specific columns of the dataset. For example, it is applied to the following columns:\n",
        "\n",
        "- **`nameOrig`**: The identifier of the customer initiating the transaction.\n",
        "- **`nameDest`**: The identifier of the recipient of the transaction.\n",
        "- **`type`**: The type of the transaction (e.g., cash-in, cash-out).\n",
        "- **`isFlaggedFraud`**: A flag indicating whether the transaction was flagged as potentially fraudulent.\n",
        "- **`isFraud`**: The target variable that indicates whether the transaction is truly fraudulent (1) or not (0).\n"
      ],
      "metadata": {
        "id": "UgWOuRLnA0tw"
      }
    },
    {
      "cell_type": "code",
      "source": [
        "df.nameOrig.value_counts()"
      ],
      "metadata": {
        "colab": {
          "base_uri": "https://localhost:8080/",
          "height": 490
        },
        "id": "2MX9v5Xi7J4m",
        "outputId": "528d3b98-4b58-4863-9ccf-c0f147ebd8c7"
      },
      "execution_count": 8,
      "outputs": [
        {
          "output_type": "execute_result",
          "data": {
            "text/plain": [
              "nameOrig\n",
              "C1530544995    3\n",
              "C1677795071    3\n",
              "C400299098     3\n",
              "C1999539787    3\n",
              "C566980016     2\n",
              "              ..\n",
              "C1230336183    1\n",
              "C1092611352    1\n",
              "C734745949     1\n",
              "C939383318     1\n",
              "C1795114144    1\n",
              "Name: count, Length: 2964218, dtype: int64"
            ],
            "text/html": [
              "<div>\n",
              "<style scoped>\n",
              "    .dataframe tbody tr th:only-of-type {\n",
              "        vertical-align: middle;\n",
              "    }\n",
              "\n",
              "    .dataframe tbody tr th {\n",
              "        vertical-align: top;\n",
              "    }\n",
              "\n",
              "    .dataframe thead th {\n",
              "        text-align: right;\n",
              "    }\n",
              "</style>\n",
              "<table border=\"1\" class=\"dataframe\">\n",
              "  <thead>\n",
              "    <tr style=\"text-align: right;\">\n",
              "      <th></th>\n",
              "      <th>count</th>\n",
              "    </tr>\n",
              "    <tr>\n",
              "      <th>nameOrig</th>\n",
              "      <th></th>\n",
              "    </tr>\n",
              "  </thead>\n",
              "  <tbody>\n",
              "    <tr>\n",
              "      <th>C1530544995</th>\n",
              "      <td>3</td>\n",
              "    </tr>\n",
              "    <tr>\n",
              "      <th>C1677795071</th>\n",
              "      <td>3</td>\n",
              "    </tr>\n",
              "    <tr>\n",
              "      <th>C400299098</th>\n",
              "      <td>3</td>\n",
              "    </tr>\n",
              "    <tr>\n",
              "      <th>C1999539787</th>\n",
              "      <td>3</td>\n",
              "    </tr>\n",
              "    <tr>\n",
              "      <th>C566980016</th>\n",
              "      <td>2</td>\n",
              "    </tr>\n",
              "    <tr>\n",
              "      <th>...</th>\n",
              "      <td>...</td>\n",
              "    </tr>\n",
              "    <tr>\n",
              "      <th>C1230336183</th>\n",
              "      <td>1</td>\n",
              "    </tr>\n",
              "    <tr>\n",
              "      <th>C1092611352</th>\n",
              "      <td>1</td>\n",
              "    </tr>\n",
              "    <tr>\n",
              "      <th>C734745949</th>\n",
              "      <td>1</td>\n",
              "    </tr>\n",
              "    <tr>\n",
              "      <th>C939383318</th>\n",
              "      <td>1</td>\n",
              "    </tr>\n",
              "    <tr>\n",
              "      <th>C1795114144</th>\n",
              "      <td>1</td>\n",
              "    </tr>\n",
              "  </tbody>\n",
              "</table>\n",
              "<p>2964218 rows × 1 columns</p>\n",
              "</div><br><label><b>dtype:</b> int64</label>"
            ]
          },
          "metadata": {},
          "execution_count": 8
        }
      ]
    },
    {
      "cell_type": "code",
      "source": [
        "df.nameDest.value_counts()"
      ],
      "metadata": {
        "colab": {
          "base_uri": "https://localhost:8080/",
          "height": 490
        },
        "id": "5lL99BW17SHm",
        "outputId": "26b968d1-5026-4e11-bf19-7fde6817d202"
      },
      "execution_count": 9,
      "outputs": [
        {
          "output_type": "execute_result",
          "data": {
            "text/plain": [
              "nameDest\n",
              "C985934102     103\n",
              "C1286084959    103\n",
              "C665576141      99\n",
              "C1590550415     94\n",
              "C248609774      94\n",
              "              ... \n",
              "M2012671759      1\n",
              "M1051536513      1\n",
              "M1264534953      1\n",
              "M1148444607      1\n",
              "M483970125       1\n",
              "Name: count, Length: 1262896, dtype: int64"
            ],
            "text/html": [
              "<div>\n",
              "<style scoped>\n",
              "    .dataframe tbody tr th:only-of-type {\n",
              "        vertical-align: middle;\n",
              "    }\n",
              "\n",
              "    .dataframe tbody tr th {\n",
              "        vertical-align: top;\n",
              "    }\n",
              "\n",
              "    .dataframe thead th {\n",
              "        text-align: right;\n",
              "    }\n",
              "</style>\n",
              "<table border=\"1\" class=\"dataframe\">\n",
              "  <thead>\n",
              "    <tr style=\"text-align: right;\">\n",
              "      <th></th>\n",
              "      <th>count</th>\n",
              "    </tr>\n",
              "    <tr>\n",
              "      <th>nameDest</th>\n",
              "      <th></th>\n",
              "    </tr>\n",
              "  </thead>\n",
              "  <tbody>\n",
              "    <tr>\n",
              "      <th>C985934102</th>\n",
              "      <td>103</td>\n",
              "    </tr>\n",
              "    <tr>\n",
              "      <th>C1286084959</th>\n",
              "      <td>103</td>\n",
              "    </tr>\n",
              "    <tr>\n",
              "      <th>C665576141</th>\n",
              "      <td>99</td>\n",
              "    </tr>\n",
              "    <tr>\n",
              "      <th>C1590550415</th>\n",
              "      <td>94</td>\n",
              "    </tr>\n",
              "    <tr>\n",
              "      <th>C248609774</th>\n",
              "      <td>94</td>\n",
              "    </tr>\n",
              "    <tr>\n",
              "      <th>...</th>\n",
              "      <td>...</td>\n",
              "    </tr>\n",
              "    <tr>\n",
              "      <th>M2012671759</th>\n",
              "      <td>1</td>\n",
              "    </tr>\n",
              "    <tr>\n",
              "      <th>M1051536513</th>\n",
              "      <td>1</td>\n",
              "    </tr>\n",
              "    <tr>\n",
              "      <th>M1264534953</th>\n",
              "      <td>1</td>\n",
              "    </tr>\n",
              "    <tr>\n",
              "      <th>M1148444607</th>\n",
              "      <td>1</td>\n",
              "    </tr>\n",
              "    <tr>\n",
              "      <th>M483970125</th>\n",
              "      <td>1</td>\n",
              "    </tr>\n",
              "  </tbody>\n",
              "</table>\n",
              "<p>1262896 rows × 1 columns</p>\n",
              "</div><br><label><b>dtype:</b> int64</label>"
            ]
          },
          "metadata": {},
          "execution_count": 9
        }
      ]
    },
    {
      "cell_type": "code",
      "source": [
        "df.type.value_counts()"
      ],
      "metadata": {
        "colab": {
          "base_uri": "https://localhost:8080/",
          "height": 272
        },
        "id": "MrG1olef7Uw4",
        "outputId": "3ef65d0b-df6a-4cbd-bf9d-d67c11b80628"
      },
      "execution_count": 10,
      "outputs": [
        {
          "output_type": "execute_result",
          "data": {
            "text/plain": [
              "type\n",
              "CASH_OUT    1055157\n",
              "PAYMENT      995623\n",
              "CASH_IN      651226\n",
              "TRANSFER     245686\n",
              "DEBIT         18618\n",
              "Name: count, dtype: int64"
            ],
            "text/html": [
              "<div>\n",
              "<style scoped>\n",
              "    .dataframe tbody tr th:only-of-type {\n",
              "        vertical-align: middle;\n",
              "    }\n",
              "\n",
              "    .dataframe tbody tr th {\n",
              "        vertical-align: top;\n",
              "    }\n",
              "\n",
              "    .dataframe thead th {\n",
              "        text-align: right;\n",
              "    }\n",
              "</style>\n",
              "<table border=\"1\" class=\"dataframe\">\n",
              "  <thead>\n",
              "    <tr style=\"text-align: right;\">\n",
              "      <th></th>\n",
              "      <th>count</th>\n",
              "    </tr>\n",
              "    <tr>\n",
              "      <th>type</th>\n",
              "      <th></th>\n",
              "    </tr>\n",
              "  </thead>\n",
              "  <tbody>\n",
              "    <tr>\n",
              "      <th>CASH_OUT</th>\n",
              "      <td>1055157</td>\n",
              "    </tr>\n",
              "    <tr>\n",
              "      <th>PAYMENT</th>\n",
              "      <td>995623</td>\n",
              "    </tr>\n",
              "    <tr>\n",
              "      <th>CASH_IN</th>\n",
              "      <td>651226</td>\n",
              "    </tr>\n",
              "    <tr>\n",
              "      <th>TRANSFER</th>\n",
              "      <td>245686</td>\n",
              "    </tr>\n",
              "    <tr>\n",
              "      <th>DEBIT</th>\n",
              "      <td>18618</td>\n",
              "    </tr>\n",
              "  </tbody>\n",
              "</table>\n",
              "</div><br><label><b>dtype:</b> int64</label>"
            ]
          },
          "metadata": {},
          "execution_count": 10
        }
      ]
    },
    {
      "cell_type": "code",
      "source": [
        "df.isFlaggedFraud.value_counts()"
      ],
      "metadata": {
        "colab": {
          "base_uri": "https://localhost:8080/",
          "height": 178
        },
        "id": "PB9Avth57Xhu",
        "outputId": "f742bb25-0f6f-4197-e869-00feafb05234"
      },
      "execution_count": 11,
      "outputs": [
        {
          "output_type": "execute_result",
          "data": {
            "text/plain": [
              "isFlaggedFraud\n",
              "0.0    2966308\n",
              "1.0          1\n",
              "Name: count, dtype: int64"
            ],
            "text/html": [
              "<div>\n",
              "<style scoped>\n",
              "    .dataframe tbody tr th:only-of-type {\n",
              "        vertical-align: middle;\n",
              "    }\n",
              "\n",
              "    .dataframe tbody tr th {\n",
              "        vertical-align: top;\n",
              "    }\n",
              "\n",
              "    .dataframe thead th {\n",
              "        text-align: right;\n",
              "    }\n",
              "</style>\n",
              "<table border=\"1\" class=\"dataframe\">\n",
              "  <thead>\n",
              "    <tr style=\"text-align: right;\">\n",
              "      <th></th>\n",
              "      <th>count</th>\n",
              "    </tr>\n",
              "    <tr>\n",
              "      <th>isFlaggedFraud</th>\n",
              "      <th></th>\n",
              "    </tr>\n",
              "  </thead>\n",
              "  <tbody>\n",
              "    <tr>\n",
              "      <th>0.0</th>\n",
              "      <td>2966308</td>\n",
              "    </tr>\n",
              "    <tr>\n",
              "      <th>1.0</th>\n",
              "      <td>1</td>\n",
              "    </tr>\n",
              "  </tbody>\n",
              "</table>\n",
              "</div><br><label><b>dtype:</b> int64</label>"
            ]
          },
          "metadata": {},
          "execution_count": 11
        }
      ]
    },
    {
      "cell_type": "code",
      "source": [
        "df.isFraud.value_counts()"
      ],
      "metadata": {
        "colab": {
          "base_uri": "https://localhost:8080/",
          "height": 178
        },
        "id": "z6BMchgv7aAY",
        "outputId": "590d7f76-c81a-4806-9d5c-f057deb7f033"
      },
      "execution_count": 12,
      "outputs": [
        {
          "output_type": "execute_result",
          "data": {
            "text/plain": [
              "isFraud\n",
              "0.0    2963713\n",
              "1.0       2596\n",
              "Name: count, dtype: int64"
            ],
            "text/html": [
              "<div>\n",
              "<style scoped>\n",
              "    .dataframe tbody tr th:only-of-type {\n",
              "        vertical-align: middle;\n",
              "    }\n",
              "\n",
              "    .dataframe tbody tr th {\n",
              "        vertical-align: top;\n",
              "    }\n",
              "\n",
              "    .dataframe thead th {\n",
              "        text-align: right;\n",
              "    }\n",
              "</style>\n",
              "<table border=\"1\" class=\"dataframe\">\n",
              "  <thead>\n",
              "    <tr style=\"text-align: right;\">\n",
              "      <th></th>\n",
              "      <th>count</th>\n",
              "    </tr>\n",
              "    <tr>\n",
              "      <th>isFraud</th>\n",
              "      <th></th>\n",
              "    </tr>\n",
              "  </thead>\n",
              "  <tbody>\n",
              "    <tr>\n",
              "      <th>0.0</th>\n",
              "      <td>2963713</td>\n",
              "    </tr>\n",
              "    <tr>\n",
              "      <th>1.0</th>\n",
              "      <td>2596</td>\n",
              "    </tr>\n",
              "  </tbody>\n",
              "</table>\n",
              "</div><br><label><b>dtype:</b> int64</label>"
            ]
          },
          "metadata": {},
          "execution_count": 12
        }
      ]
    },
    {
      "cell_type": "markdown",
      "source": [
        "By using `value_counts()`, we can observe the frequency of different categories in each of these columns, providing insights into the dataset's structure and helping to identify any imbalances or notable patterns."
      ],
      "metadata": {
        "id": "gpsHQLVBA4cg"
      }
    },
    {
      "cell_type": "markdown",
      "source": [
        "#Exploratory Analysis and Visualization"
      ],
      "metadata": {
        "id": "f9USzyCo7dyP"
      }
    },
    {
      "cell_type": "markdown",
      "source": [
        "## **Visualizing Feature Distributions**\n",
        "\n",
        "In this section, we use **Matplotlib** and **Seaborn**, two popular Python libraries for data visualization, to plot histograms for several key features in the dataset.\n",
        "\n",
        "- **Matplotlib** (`plt`): Used for creating static, interactive, and animated visualizations.\n",
        "- **Seaborn** (`sns`): Built on top of Matplotlib, Seaborn provides a high-level interface for creating attractive and informative statistical graphics.\n",
        "\n",
        "The `%matplotlib inline` command ensures that the plots are displayed directly within the notebook.\n",
        "\n",
        "We focus on the following features:\n",
        "- `step`: Represents a unit of time in hours.\n",
        "- `amount`: The transaction amount.\n",
        "- `oldbalanceOrg`: The balance before the transaction from the originating account.\n",
        "- `newbalanceOrig`: The balance after the transaction from the originating account.\n",
        "- `oldbalanceDest`: The balance before the transaction in the destination account.\n",
        "- `newbalanceDest`: The balance after the transaction in the destination account.\n"
      ],
      "metadata": {
        "id": "-q5kzHsABfJp"
      }
    },
    {
      "cell_type": "code",
      "source": [
        "import matplotlib.pyplot as plt\n",
        "import seaborn as sns\n",
        "%matplotlib inline\n",
        "\n",
        "def showPlot(feature, bins=10, color='grey', figsize=(12, 6)):\n",
        "    \"\"\"\n",
        "    Visualizes the distribution of a specific feature in the dataset with a histogram.\n",
        "\n",
        "    Parameters:\n",
        "    - feature (str): The column name for which the histogram will be plotted.\n",
        "    - bins (int): The number of bins to be used in the histogram (default is 10).\n",
        "    - color (str): The color of the bars in the histogram (default is 'grey').\n",
        "    - figsize (tuple): The size of the figure (default is (12, 6)).\n",
        "\n",
        "    Displays:\n",
        "    - A histogram of the specified feature with additional context like legend, axis labels,\n",
        "      and optional lines for mean/median.\n",
        "    \"\"\"\n",
        "\n",
        "    # Set the plot size and style\n",
        "    plt.figure(figsize=figsize)\n",
        "\n",
        "    # Plot the histogram\n",
        "    df[feature].plot(kind='hist', bins=bins, facecolor=color, edgecolor='black', alpha=0.7, label='Data Distribution')\n",
        "\n",
        "    # Title and axis labels for better context\n",
        "    plt.title(f'Distribution of {feature}', fontsize=16)\n",
        "    plt.xlabel(f'{feature} Values', fontsize=14)\n",
        "    plt.ylabel('Frequency', fontsize=14)\n",
        "\n",
        "    # Add a legend to the plot\n",
        "    plt.legend(loc='upper right')\n",
        "\n",
        "    # Calculate mean and median\n",
        "    mean_value = df[feature].mean()\n",
        "    median_value = df[feature].median()\n",
        "\n",
        "    # Add lines for mean and median for better insight\n",
        "    plt.axvline(mean_value, color='red', linestyle='dashed', linewidth=3, label=f'Mean: {mean_value:.2f}')\n",
        "    plt.axvline(median_value, color='blue', linestyle='dashed', linewidth=3, label=f'Median: {median_value:.2f}')\n",
        "\n",
        "    # Set the limits for x-axis to ensure the lines are visible\n",
        "    plt.xlim(df[feature].min() - 0.1*(df[feature].max() - df[feature].min()),\n",
        "             df[feature].max() + 0.1*(df[feature].max() - df[feature].min()))\n",
        "\n",
        "    # Show grid for better readability\n",
        "    plt.grid(True)\n",
        "\n",
        "    # Show the plot\n",
        "    plt.show()"
      ],
      "metadata": {
        "id": "r3KbQ2aqBPjm"
      },
      "execution_count": 34,
      "outputs": []
    },
    {
      "cell_type": "markdown",
      "source": [
        "## **Visualizing the 'step' Feature**\n",
        "\n",
        "The **'step'** feature in this dataset represents a unit of time, with each step corresponding to one hour. This feature helps us understand the chronological progression of the transactions.\n",
        "\n",
        "We use a histogram to visualize the distribution of this feature. **The histogram helps us identify patterns in the frequency of transactions over time, which can be useful for detecting trends or anomalies in transaction behavior.**"
      ],
      "metadata": {
        "id": "KI7oY4W9C5nn"
      }
    },
    {
      "cell_type": "code",
      "source": [
        "showPlot('step', bins=10, color='skyblue')"
      ],
      "metadata": {
        "colab": {
          "base_uri": "https://localhost:8080/",
          "height": 571
        },
        "id": "j3Ym6yEVBz62",
        "outputId": "0b6ed88f-6edd-4572-bb5d-5f53a22d2684"
      },
      "execution_count": 35,
      "outputs": [
        {
          "output_type": "display_data",
          "data": {
            "text/plain": [
              "<Figure size 1200x600 with 1 Axes>"
            ],
            "image/png": "[encoded data removed]"
          },
          "metadata": {}
        }
      ]
    },
    {
      "cell_type": "markdown",
      "source": [
        "By analyzing the 'step' feature, we can see if there are certain time periods where transactions occur more frequently, which may indicate particular behavior or activity spikes."
      ],
      "metadata": {
        "id": "bVU_QtLHC81_"
      }
    },
    {
      "cell_type": "markdown",
      "source": [
        "## **Visualizing the 'amount' Feature**\n",
        "\n",
        "The **'amount'** feature represents the monetary value of each transaction. This feature is key in understanding the financial scale of the transactions and identifying any anomalies or unusually large transactions that may indicate fraudulent activity.\n",
        "\n",
        "We use a histogram to visualize the distribution of transaction amounts. **The histogram allows us to see how the transaction amounts are distributed across the dataset, helping to identify any trends, outliers, or spikes in transaction values.**\n"
      ],
      "metadata": {
        "id": "4KDvzdtODYYX"
      }
    },
    {
      "cell_type": "code",
      "source": [
        "showPlot('amount', bins=15, color='lightgreen')"
      ],
      "metadata": {
        "colab": {
          "base_uri": "https://localhost:8080/",
          "height": 571
        },
        "id": "s3E5Ww-4B3_P",
        "outputId": "c92fd643-e60c-44a6-ec59-979fd73b6635"
      },
      "execution_count": 36,
      "outputs": [
        {
          "output_type": "display_data",
          "data": {
            "text/plain": [
              "<Figure size 1200x600 with 1 Axes>"
            ],
            "image/png": "[encoded data removed]"
          },
          "metadata": {}
        }
      ]
    },
    {
      "cell_type": "markdown",
      "source": [
        "By analyzing the 'amount' feature, we can assess the typical transaction size and identify any transactions that deviate significantly from the norm, which might require further investigation."
      ],
      "metadata": {
        "id": "YK727KvmDgd2"
      }
    },
    {
      "cell_type": "markdown",
      "source": [
        "## **Visualizing the 'oldbalanceOrg' Feature**\n",
        "\n",
        "The **'oldbalanceOrg'** feature represents the balance of the originating account before the transaction is made. This is an important feature as it provides context for understanding the financial capacity of the originating account prior to the transaction and helps in identifying unusually high or low transaction activities.\n",
        "\n",
        "We use a histogram to visualize the distribution of the **'oldbalanceOrg'** values. **The histogram will allow us to explore how the originating account balances are distributed and identify any trends or outliers in the data.**\n"
      ],
      "metadata": {
        "id": "fXPMZFS9Dzm5"
      }
    },
    {
      "cell_type": "code",
      "source": [
        "showPlot('oldbalanceOrg', bins=10, color='lightcoral')"
      ],
      "metadata": {
        "colab": {
          "base_uri": "https://localhost:8080/",
          "height": 571
        },
        "id": "khedwa20B4T_",
        "outputId": "39968ffa-7f6a-4f7f-a15a-bd604ea2d9d1"
      },
      "execution_count": 37,
      "outputs": [
        {
          "output_type": "display_data",
          "data": {
            "text/plain": [
              "<Figure size 1200x600 with 1 Axes>"
            ],
            "image/png": "[encoded data removed]"
          },
          "metadata": {}
        }
      ]
    },
    {
      "cell_type": "markdown",
      "source": [
        "By analyzing the 'oldbalanceOrg' feature, we can assess typical account balances and determine if there are any unusually large or small balances that might suggest suspicious behavior or anomalies in the transactions."
      ],
      "metadata": {
        "id": "BjJfIJOdD-6g"
      }
    },
    {
      "cell_type": "markdown",
      "source": [
        "## **Visualizing the 'newbalanceOrig' Feature**\n",
        "\n",
        "The **'newbalanceOrig'** feature represents the balance of the originating account after the transaction has been completed. This is an important feature as it shows the updated financial status of the originating account, reflecting the effect of the transaction on the account balance.\n",
        "\n",
        "We use a histogram to visualize the distribution of **'newbalanceOrig'** values. **The histogram allows us to explore how the balances of originating accounts are distributed post-transaction and to identify any significant shifts or trends.**\n"
      ],
      "metadata": {
        "id": "P6xvMF1rEL-X"
      }
    },
    {
      "cell_type": "code",
      "source": [
        "showPlot('newbalanceOrig', bins=10, color='skyblue')"
      ],
      "metadata": {
        "colab": {
          "base_uri": "https://localhost:8080/",
          "height": 571
        },
        "id": "20BGenh1B0Co",
        "outputId": "02bb4df2-e2c4-46c9-ebf3-85ea01d1eef9"
      },
      "execution_count": 38,
      "outputs": [
        {
          "output_type": "display_data",
          "data": {
            "text/plain": [
              "<Figure size 1200x600 with 1 Axes>"
            ],
            "image/png": "[encoded data removed]"
          },
          "metadata": {}
        }
      ]
    },
    {
      "cell_type": "markdown",
      "source": [
        "By analyzing the 'newbalanceOrig' feature, we can determine if there are any unusually large or small balances after transactions, which could indicate irregular activity or unusual transaction patterns."
      ],
      "metadata": {
        "id": "TB5QRJ9FEQAm"
      }
    },
    {
      "cell_type": "markdown",
      "source": [
        "## **Visualizing the 'oldbalanceDest' Feature**\n",
        "\n",
        "The **'oldbalanceDest'** feature represents the balance of the destination account before the transaction. This is an important feature as it provides context on the financial state of the recipient's account prior to receiving the transaction amount.\n",
        "\n",
        "We use a histogram to visualize the distribution of **'oldbalanceDest'** values. **This helps us observe how the balances of destination accounts are distributed before transactions and can highlight any irregularities in the starting balance of recipient accounts.**\n"
      ],
      "metadata": {
        "id": "P0YL5_1jEgnH"
      }
    },
    {
      "cell_type": "code",
      "source": [
        "showPlot('oldbalanceDest', bins=10, color='lightgreen')"
      ],
      "metadata": {
        "colab": {
          "base_uri": "https://localhost:8080/",
          "height": 571
        },
        "id": "oKE1meUOB-Jn",
        "outputId": "de42dd23-9601-4efa-c692-83c7300638bb"
      },
      "execution_count": 39,
      "outputs": [
        {
          "output_type": "display_data",
          "data": {
            "text/plain": [
              "<Figure size 1200x600 with 1 Axes>"
            ],
            "image/png": "[encoded data removed]"
          },
          "metadata": {}
        }
      ]
    },
    {
      "cell_type": "markdown",
      "source": [
        "By analyzing the 'oldbalanceDest' feature, we can identify any significant differences in the balances of destination accounts prior to the transaction, which could be indicative of unusual patterns or suspicious behavior."
      ],
      "metadata": {
        "id": "-ALmQftkElfZ"
      }
    },
    {
      "cell_type": "markdown",
      "source": [
        "## **Visualizing the 'newbalanceDest' Feature**\n",
        "\n",
        "The **'newbalanceDest'** feature represents the balance of the destination account after the transaction has been completed. This feature is significant because it shows how the balance of the recipient's account has changed following the transaction.\n",
        "\n",
        "We use a histogram to visualize the distribution of **'newbalanceDest'** values. **This helps us observe how the destination account balances are distributed after receiving funds and can highlight any significant changes in the recipient's account.**\n"
      ],
      "metadata": {
        "id": "K_RqaKacEtUY"
      }
    },
    {
      "cell_type": "code",
      "source": [
        "showPlot('newbalanceDest', bins=10, color='lightcoral')"
      ],
      "metadata": {
        "colab": {
          "base_uri": "https://localhost:8080/",
          "height": 571
        },
        "id": "qYlIaTTQB_42",
        "outputId": "e8c7bc37-f46f-4347-f714-d86570690913"
      },
      "execution_count": 40,
      "outputs": [
        {
          "output_type": "display_data",
          "data": {
            "text/plain": [
              "<Figure size 1200x600 with 1 Axes>"
            ],
            "image/png": "[encoded data removed]"
          },
          "metadata": {}
        }
      ]
    },
    {
      "cell_type": "markdown",
      "source": [
        "By analyzing the 'newbalanceDest' feature, we can identify unusual patterns or discrepancies in the balance changes of destination accounts, which might indicate fraudulent activity or anomalies in the transaction process."
      ],
      "metadata": {
        "id": "gMyV2vwiEu0H"
      }
    }
  ]
}